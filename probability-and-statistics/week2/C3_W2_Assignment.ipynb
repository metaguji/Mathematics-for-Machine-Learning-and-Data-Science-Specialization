{
 "cells": [
  {
   "cell_type": "markdown",
   "id": "4caafec3",
   "metadata": {},
   "source": [
    "# Loaded dice \n",
    "\n",
    "Welcome to the second assignment in the course Probability and Statistics for Machine Learning and Data Science! In this quiz-like assignment you will test your intuition about the concepts covered in the lectures by taking the example with the dice to the next level. \n",
    "\n",
    "**This assignment can be completed with just pencil and paper, or even your intuition about probability, but in many questions using the skills you're developing as a programmer may help**. "
   ]
  },
  {
   "cell_type": "markdown",
   "id": "3bff9c20",
   "metadata": {},
   "source": [
    "## 1 - Introduction\n",
    "\n",
    "You will be presented with 11 questions regarding a several dice games. Sometimes the dice is loaded, sometimes it is not. You will have clear instructions for each exercise.\n",
    "\n",
    "### 1.1 How to go through the assignment\n",
    "\n",
    "In each exercise you there will be a question about throwing some dice that may or may not be loaded. You will have to answer questions about the results of each scenario, such as calculating the expected value of the dice throw or selecting the graph that best represents the distribution of outcomes. \n",
    "\n",
    "In any case, **you will be able to solve the exercise with one of the following methods:**\n",
    "\n",
    "- **By hand:** You may make your calculations by hand, using the theory you have developed in the lectures.\n",
    "- **Using Python:** You may use the empty block of code provided to make computations and simulations, to obtain the result.\n",
    "\n",
    "After each exercise you will save your solution by running a special code cell and adding your answer. The cells contain a single line of code in the format `utils.exercise_1()` which will launch the interface in which you can save your answer. **You will save your responses to each exercise as you go, but you won't submit all your responses for grading until you submit this assignment at the end.**\n",
    "\n",
    "Let's go over an example! Before, let's import the necessary libraries."
   ]
  },
  {
   "cell_type": "markdown",
   "id": "3d256624",
   "metadata": {},
   "source": [
    "## 2 - Importing the libraries"
   ]
  },
  {
   "cell_type": "code",
   "execution_count": 244,
   "id": "da0fcf2f",
   "metadata": {},
   "outputs": [],
   "source": [
    "import numpy as np\n",
    "import pandas as pd\n",
    "import seaborn as sns\n",
    "import matplotlib.pyplot as plt\n",
    "import utils"
   ]
  },
  {
   "cell_type": "markdown",
   "id": "e1637bc9",
   "metadata": {},
   "source": [
    "## 3 - A worked example on how to complete this assignment.\n",
    "\n",
    "Now let's go over one example question, so you understand how to go through the assignment.\n",
    "\n",
    "### 3.1 Example question\n",
    "\n",
    "Question: Given a 6-sided fair dice, you throw it two times and save the result. What is the probability that the sum of your two throws is greater than 5? (Give your result with 1 decimal place).\n",
    "\n",
    "After the question, you will see the following block of code."
   ]
  },
  {
   "cell_type": "code",
   "execution_count": 245,
   "id": "c789233e",
   "metadata": {},
   "outputs": [
    {
     "data": {
      "text/plain": [
       "5"
      ]
     },
     "execution_count": 245,
     "metadata": {},
     "output_type": "execute_result"
    }
   ],
   "source": [
    "# You can use this cell for your calculations (not graded)\n",
    "dice = np.random.choice(np.array([1,2,3,4,5,6]))\n",
    "dice"
   ]
  },
  {
   "cell_type": "markdown",
   "id": "02528065",
   "metadata": {},
   "source": [
    "You may use it as you wish to solve the exercise. Or you can just ignore it and use pencil and pen to solve. It is up to you! **You will only save your final answer**. \n",
    "\n",
    "### 3.2 Solving using simulations in Python\n",
    "\n",
    "Let's solve this question in both ways. First, using Python. You may check the ungraded lab Dice Simulations that appears right before this assignment to help you simulate dice throws. Remember that, to get a good approximation, you need to simulate it a lot of times! You will see why this is true in the following weeks, but this is quite intuitive."
   ]
  },
  {
   "cell_type": "code",
   "execution_count": 246,
   "id": "309a3457",
   "metadata": {},
   "outputs": [
    {
     "name": "stdout",
     "output_type": "stream",
     "text": [
      "The probability by this simulation is: 0.719\n"
     ]
    }
   ],
   "source": [
    "# You can use this cell for your calculations (not graded)\n",
    "\n",
    "# This list represents each dice side\n",
    "dice = [1,2,3,4,5,6]\n",
    "\n",
    "# The idea is to randomly choose one element from this list three times and sum them. \n",
    "# Each time we choose, it is as if we had thrown a dice and the side is the chosen number.\n",
    "# This list will store the sum for each iteration. The idea is to repeat this experiment several times.\n",
    "sum_results = []\n",
    "\n",
    "number_iterations = 1000\n",
    "\n",
    "# Setting a random seed just for reproducibility\n",
    "np.random.seed(42)\n",
    "# It will play this game number_iteration times\n",
    "for i in range(number_iterations):\n",
    "    # Throw the first dice\n",
    "    throw_1 = np.random.choice(dice)\n",
    "    # Throw the second dice\n",
    "    throw_2 = np.random.choice(dice)\n",
    "    # Sum the result\n",
    "    sum_throw = throw_1 + throw_2\n",
    "    # Append to the sum_result list\n",
    "    sum_results.append(sum_throw)\n",
    "\n",
    "# After recording all the sums, the actual probability will be very close to the proportion among every sum greater than 10 in the sum_results list.\n",
    "greater_5_count = 0\n",
    "\n",
    "for x in sum_results:\n",
    "    if x > 5:\n",
    "        greater_5_count += 1\n",
    "\n",
    "probability = greater_5_count/len(sum_results)    \n",
    "print(f\"The probability by this simulation is: {probability}\")"
   ]
  },
  {
   "cell_type": "markdown",
   "id": "37524317",
   "metadata": {},
   "source": [
    "So the result you would get, rounding in to decimal place, would be 0.7! Let's solve it \"by hand\".\n",
    "\n",
    "### 3.3 Solving using the theory\n",
    "\n",
    "When throwing two dice, there are $36$ possible outcomes:\n",
    "\n",
    "$$(1,1), (1,2), \\ldots, (6,6)$$\n",
    "\n",
    "You must count how many of them lead to a sum greater than 5. They are:\n",
    "\n",
    "* If the first throw is $1$, there are $2$ possibilities for the second throw: 5 or 6.\n",
    "* If the first throw is $2$, there are $3$ possibilities for the second throw: 4, 5 or 6.\n",
    "* If the first throw is $3$, there are $4$ possibilities for the second throw: 3, 4, 5 or 6.\n",
    "* If the first throw is $4$, there are $5$ possibilities for the second throw: 2, 3, 4, 5 or 6.\n",
    "* If the first throw is $5$, there are $6$ possibilities for the second throw: 1, 2, 3, 4, 5 or 6.\n",
    "* If the first throw is $6$, there are $6$ possibilities for the second throw: 1, 2, 3, 4, 5 or 6.\n",
    "\n",
    "So, in total there are $2 + 3 + 4 + 5 + 6 + 6 = 26$, possibilities that sum greater than 5.\n",
    "\n",
    "The probability is then $\\frac{26}{36} \\approx 0.72$. Rounding it to 1 decimal place, the result is also 0.7!\n"
   ]
  },
  {
   "cell_type": "markdown",
   "id": "29b9f3ed",
   "metadata": {},
   "source": [
    "### 3.4 Saving your answer\n",
    "\n",
    "Once you get your answer in hands, it is time to save it. Run the next code below to see what it will look like. You just add your answer as requested and click on \"Save your answer!\""
   ]
  },
  {
   "cell_type": "code",
   "execution_count": 247,
   "id": "38539358",
   "metadata": {},
   "outputs": [
    {
     "data": {
      "application/vnd.jupyter.widget-view+json": {
       "model_id": "c540aedd716c4187a45685672ad190eb",
       "version_major": 2,
       "version_minor": 0
      },
      "text/plain": [
       "FloatText(value=0.0, description='Probability:')"
      ]
     },
     "metadata": {},
     "output_type": "display_data"
    },
    {
     "data": {
      "application/vnd.jupyter.widget-view+json": {
       "model_id": "9b5e16b976d24fc8a01597b887f4eda8",
       "version_major": 2,
       "version_minor": 0
      },
      "text/plain": [
       "Button(button_style='success', description='Save your answer!', style=ButtonStyle())"
      ]
     },
     "metadata": {},
     "output_type": "display_data"
    },
    {
     "data": {
      "application/vnd.jupyter.widget-view+json": {
       "model_id": "e1fd6f5969854df796135333802edd90",
       "version_major": 2,
       "version_minor": 0
      },
      "text/plain": [
       "Output()"
      ]
     },
     "metadata": {},
     "output_type": "display_data"
    }
   ],
   "source": [
    "utils.exercise_example()"
   ]
  },
  {
   "cell_type": "markdown",
   "id": "73d4776c",
   "metadata": {},
   "source": [
    "And that's it! Once you save one question, you can go to the next one. If you want to change your solution, just run the code again and input the new solution, it will overwrite the previous one. At the end of the assignment, you will be able to check if you have forgotten to save any question. \n",
    "\n",
    "Once you finish the assignment, you may submit it as you usually would. Your most recently save answers to each exercise will then be graded."
   ]
  },
  {
   "cell_type": "markdown",
   "id": "4546a127",
   "metadata": {},
   "source": [
    "## 4 - Some concept clarifications 🎲🎲🎲\n",
    "\n",
    "During this assignment you will be presented with various scenarios that involve dice. Usually dice can have different numbers of sides and can be either fair or loaded.\n",
    "\n",
    "- A fair dice has equal probability of landing on every side.\n",
    "- A loaded dice does not have equal probability of landing on every side. Usually one (or more) sides have a greater probability of showing up than the rest.\n",
    "\n",
    "Alright, that's all your need to know to complete this assignment. Time to start rolling some dice!"
   ]
  },
  {
   "cell_type": "markdown",
   "id": "c8f09f02",
   "metadata": {},
   "source": [
    "## Exercise 1:\n",
    "\n"
   ]
  },
  {
   "cell_type": "markdown",
   "id": "3510c610",
   "metadata": {},
   "source": [
    "Given a 6-sided fair dice (all of the sides have equal probability of showing up), compute the mean and variance for the probability distribution that models said dice. The next figure shows you a visual represenatation of said distribution:\n",
    "\n",
    "<img src=\"./images/fair_dice.png\" style=\"height: 300px;\"/>\n",
    "\n",
    "**Submission considerations:**\n",
    "- Submit your answers as floating point numbers with three digits after the decimal point\n",
    "- Example: To submit the value of 1/4 enter 0.250"
   ]
  },
  {
   "cell_type": "markdown",
   "id": "5ee9b479",
   "metadata": {},
   "source": [
    "Hints: \n",
    "- You can use [np.random.choice](https://numpy.org/doc/stable/reference/random/generated/numpy.random.choice.html) to simulate a fair dice.\n",
    "- You can use [np.mean](https://numpy.org/doc/stable/reference/generated/numpy.mean.html) and [np.var](https://numpy.org/doc/stable/reference/generated/numpy.var.html) to compute the mean and variance of a numpy array."
   ]
  },
  {
   "cell_type": "code",
   "execution_count": 248,
   "id": "df437e8e",
   "metadata": {},
   "outputs": [
    {
     "name": "stdout",
     "output_type": "stream",
     "text": [
      "Mean is: 3.5\n",
      "Variance is: 2.9166666666666665\n"
     ]
    }
   ],
   "source": [
    "# You can use this cell for your calculations (not graded)\n",
    "\n",
    "dice = np.array([1,2,3,4,5,6])\n",
    "\n",
    "dice_probability = np.array([1/6,1/6,1/6,1/6,1/6,1/6])\n",
    "\n",
    "number_of_sides = len(dice)    \n",
    "    \n",
    "# mean = sum((dice_probability[i])*(dice[i]) for i in range(number_of_sides))\n",
    "mean = np.mean(dice)\n",
    "\n",
    "# variance = sum((mean-dice[i])**2 for i in range(number_of_sides)) / number_of_sides\n",
    "variance = np.var(dice)\n",
    "\n",
    "print(f\"Mean is: {mean}\")\n",
    "print(f\"Variance is: {variance}\")"
   ]
  },
  {
   "cell_type": "code",
   "execution_count": 249,
   "id": "db9477e7",
   "metadata": {},
   "outputs": [
    {
     "data": {
      "application/vnd.jupyter.widget-view+json": {
       "model_id": "214cb809963e48cea19b131a8464be2b",
       "version_major": 2,
       "version_minor": 0
      },
      "text/plain": [
       "FloatText(value=0.0, description='Mean:')"
      ]
     },
     "metadata": {},
     "output_type": "display_data"
    },
    {
     "data": {
      "application/vnd.jupyter.widget-view+json": {
       "model_id": "a2d0e5cf87514941a8ae55004250dce2",
       "version_major": 2,
       "version_minor": 0
      },
      "text/plain": [
       "FloatText(value=0.0, description='Variance:')"
      ]
     },
     "metadata": {},
     "output_type": "display_data"
    },
    {
     "data": {
      "application/vnd.jupyter.widget-view+json": {
       "model_id": "f3bd13efb6534b439c563bc8f7fb00b3",
       "version_major": 2,
       "version_minor": 0
      },
      "text/plain": [
       "Button(button_style='success', description='Save your answer!', style=ButtonStyle())"
      ]
     },
     "metadata": {},
     "output_type": "display_data"
    },
    {
     "data": {
      "application/vnd.jupyter.widget-view+json": {
       "model_id": "a36ab3dc1da3466a9b1cd98aeca5f6c7",
       "version_major": 2,
       "version_minor": 0
      },
      "text/plain": [
       "Output()"
      ]
     },
     "metadata": {},
     "output_type": "display_data"
    }
   ],
   "source": [
    "# Run this cell to submit your answer\n",
    "utils.exercise_1()"
   ]
  },
  {
   "cell_type": "markdown",
   "id": "d43dcbbd",
   "metadata": {},
   "source": [
    "## Exercise 2:\n",
    "\n",
    "Now suppose you are throwing the dice (same dice as in the previous exercise) two times and recording the sum of each throw. Which of the following `probability mass functions` will be the one you should get?\n",
    "\n",
    "<table><tr>\n",
    "<td> <img src=\"./images/hist_sum_6_side.png\" style=\"height: 300px;\"/> </td>\n",
    "<td> <img src=\"./images/hist_sum_5_side.png\" style=\"height: 300px;\"/> </td>\n",
    "<td> <img src=\"./images/hist_sum_6_uf.png\" style=\"height: 300px;\"/> </td>\n",
    "</tr></table>\n"
   ]
  },
  {
   "cell_type": "markdown",
   "id": "605c58c0",
   "metadata": {},
   "source": [
    "Hints: \n",
    "- You can use numpy arrays to hold the results of many throws.\n",
    "- You can sum to numpy arrays by using the `+` operator like this: `sum = first_throw + second_throw`\n",
    "- To simulate multiple throws of a dice you can use list comprehension or a for loop"
   ]
  },
  {
   "cell_type": "code",
   "execution_count": 271,
   "id": "e9a8b2ed",
   "metadata": {},
   "outputs": [
    {
     "data": {
      "image/png": "[encoded data removed]",
      "text/plain": [
       "<Figure size 640x480 with 1 Axes>"
      ]
     },
     "metadata": {},
     "output_type": "display_data"
    }
   ],
   "source": [
    "# You can use this cell for your calculations (not graded)\n",
    "\n",
    "np.random.seed(40)\n",
    "\n",
    "iterations = 1000\n",
    "\n",
    "dice = np.array([1,2,3,4,5,6])\n",
    "\n",
    "dice_probability = np.array([1/6,1/6,1/6,1/6,1/6,1/6])\n",
    "        \n",
    "sum_of_dice = [(np.random.choice(dice, p=dice_probability) + np.random.choice(dice,p=dice_probability)) for _ in range(iterations)]\n",
    "\n",
    "sum_of_throw, counts = np.unique(sum_of_dice, return_counts=True)\n",
    "\n",
    "counts_probability = counts/iterations\n",
    "\n",
    "plt.bar(sum_of_throw, counts_probability)\n",
    "plt.xlabel(\"Sum of dice\")\n",
    "plt.ylabel(\"Probability\")\n",
    "plt.title(\"Histogram of sum\")\n",
    "plt.show()"
   ]
  },
  {
   "cell_type": "code",
   "execution_count": 251,
   "id": "d4d5dcf9",
   "metadata": {},
   "outputs": [
    {
     "data": {
      "application/vnd.jupyter.widget-view+json": {
       "model_id": "c418a0b584404c1896522902ed775a0f",
       "version_major": 2,
       "version_minor": 0
      },
      "text/plain": [
       "ToggleButtons(description='Your answer:', options=('left', 'center', 'right'), value='left')"
      ]
     },
     "metadata": {},
     "output_type": "display_data"
    },
    {
     "data": {
      "application/vnd.jupyter.widget-view+json": {
       "model_id": "18a1c13c7a794901ac945eac84f12732",
       "version_major": 2,
       "version_minor": 0
      },
      "text/plain": [
       "Button(button_style='success', description='Save your answer!', style=ButtonStyle())"
      ]
     },
     "metadata": {},
     "output_type": "display_data"
    },
    {
     "data": {
      "application/vnd.jupyter.widget-view+json": {
       "model_id": "651b12419df44097b904a18818a710c7",
       "version_major": 2,
       "version_minor": 0
      },
      "text/plain": [
       "Output()"
      ]
     },
     "metadata": {},
     "output_type": "display_data"
    }
   ],
   "source": [
    "# Run this cell to submit your answer\n",
    "utils.exercise_2()"
   ]
  },
  {
   "cell_type": "markdown",
   "id": "adfb889c",
   "metadata": {},
   "source": [
    "## Exercise 3:\n",
    "\n",
    "Given a fair 4-sided dice, you throw it two times and record the sum. The figure on the left shows the probabilities of the dice landing on each side and the right figure the histogram of the sum. Fill out the probabilities of each sum (notice that the distribution of the sum is symetrical so you only need to input 4 values in total):\n",
    "\n",
    "<img src=\"./images/4_side_hists.png\" style=\"height: 300px;\"/>\n",
    "\n",
    "**Submission considerations:**\n",
    "- Submit your answers as floating point numbers with three digits after the decimal point\n",
    "- Example: To submit the value of 1/4 enter 0.250"
   ]
  },
  {
   "cell_type": "code",
   "execution_count": 252,
   "id": "342ca685",
   "metadata": {},
   "outputs": [
    {
     "name": "stdout",
     "output_type": "stream",
     "text": [
      "Sum of dice probability:\n",
      "{2: 0.0618, 3: 0.1277, 4: 0.1878, 5: 0.243, 6: 0.1887, 7: 0.1256, 8: 0.0654}\n",
      "\n",
      "Probability of sum, 2 given 8: 0.06180000000000001\n",
      "Probability of sum, 3 given 7: 0.1277\n",
      "Probability of sum, 4 given 6: 0.1878\n",
      "Probability of sum, 5: 0.243\n"
     ]
    },
    {
     "data": {
      "image/png": "[encoded data removed]",
      "text/plain": [
       "<Figure size 640x480 with 1 Axes>"
      ]
     },
     "metadata": {},
     "output_type": "display_data"
    }
   ],
   "source": [
    "# You can use this cell for your calculations (not graded)\n",
    "\n",
    "np.random.seed(50)\n",
    "\n",
    "dice = np.array([1,2,3,4])\n",
    "\n",
    "dice_probability = np.array([1/4,1/4,1/4,1/4])\n",
    "\n",
    "iterations = 10000\n",
    "    \n",
    "sum_of_dice = [(np.random.choice(dice, p=dice_probability) + np.random.choice(dice,p=dice_probability)) for _ in range(iterations)]\n",
    "\n",
    "sum_of_throw, counts = np.unique(sum_of_dice, return_counts=True)\n",
    "\n",
    "sumOfDiceProbabilityDict = dict((sum_of_throw[i], (counts[i]/iterations)) for i in range(len(sum_of_throw)))\n",
    "print(f\"Sum of dice probability:\\n{sumOfDiceProbabilityDict}\\n\")\n",
    "\n",
    "probability_of_2_given_8 = (sumOfDiceProbabilityDict[2] * sumOfDiceProbabilityDict[8]) / sumOfDiceProbabilityDict[8]\n",
    "probability_of_3_given_7 = (sumOfDiceProbabilityDict[3] * sumOfDiceProbabilityDict[7]) / sumOfDiceProbabilityDict[7]\n",
    "probability_of_4_given_6 = (sumOfDiceProbabilityDict[4] * sumOfDiceProbabilityDict[6]) / sumOfDiceProbabilityDict[6]\n",
    "probability_of_5 = sumOfDiceProbabilityDict[5]\n",
    "\n",
    "print(f\"Probability of sum, 2 given 8: {probability_of_2_given_8}\")\n",
    "print(f\"Probability of sum, 3 given 7: {probability_of_3_given_7}\")\n",
    "print(f\"Probability of sum, 4 given 6: {probability_of_4_given_6}\")\n",
    "print(f\"Probability of sum, 5: {probability_of_5}\")\n",
    "\n",
    "probability_sum_of_dice = counts/len(sum_of_dice)\n",
    "\n",
    "plt.bar(sum_of_throw, probability_sum_of_dice)\n",
    "plt.xlabel(\"Sum of dice\")\n",
    "plt.ylabel(\"Probability\")\n",
    "plt.title(\"Histogram of sum\")\n",
    "plt.show()"
   ]
  },
  {
   "cell_type": "code",
   "execution_count": 253,
   "id": "e0a24beb",
   "metadata": {},
   "outputs": [
    {
     "data": {
      "application/vnd.jupyter.widget-view+json": {
       "model_id": "ac9d501bef674b889a00663e0fddcdfe",
       "version_major": 2,
       "version_minor": 0
      },
      "text/plain": [
       "FloatText(value=0.0, description='P for sum=2|8', style=DescriptionStyle(description_width='initial'))"
      ]
     },
     "metadata": {},
     "output_type": "display_data"
    },
    {
     "data": {
      "application/vnd.jupyter.widget-view+json": {
       "model_id": "85213ad6e713472993905047847baef0",
       "version_major": 2,
       "version_minor": 0
      },
      "text/plain": [
       "FloatText(value=0.0, description='P for sum=3|7:', style=DescriptionStyle(description_width='initial'))"
      ]
     },
     "metadata": {},
     "output_type": "display_data"
    },
    {
     "data": {
      "application/vnd.jupyter.widget-view+json": {
       "model_id": "6e92ae58e5f54f9fb15400d04c76ce39",
       "version_major": 2,
       "version_minor": 0
      },
      "text/plain": [
       "FloatText(value=0.0, description='P for sum=4|6:', style=DescriptionStyle(description_width='initial'))"
      ]
     },
     "metadata": {},
     "output_type": "display_data"
    },
    {
     "data": {
      "application/vnd.jupyter.widget-view+json": {
       "model_id": "34859f87b63e4d4e8f256a2547417663",
       "version_major": 2,
       "version_minor": 0
      },
      "text/plain": [
       "FloatText(value=0.0, description='P for sum=5:', style=DescriptionStyle(description_width='initial'))"
      ]
     },
     "metadata": {},
     "output_type": "display_data"
    },
    {
     "data": {
      "application/vnd.jupyter.widget-view+json": {
       "model_id": "7a6810009b424a68800586c47f97bf7a",
       "version_major": 2,
       "version_minor": 0
      },
      "text/plain": [
       "Button(button_style='success', description='Save your answer!', style=ButtonStyle())"
      ]
     },
     "metadata": {},
     "output_type": "display_data"
    },
    {
     "data": {
      "application/vnd.jupyter.widget-view+json": {
       "model_id": "52a9d78de59040fa98f313dee5a6c00c",
       "version_major": 2,
       "version_minor": 0
      },
      "text/plain": [
       "Output()"
      ]
     },
     "metadata": {},
     "output_type": "display_data"
    }
   ],
   "source": [
    "# Run this cell to submit your answer\n",
    "utils.exercise_3()"
   ]
  },
  {
   "cell_type": "markdown",
   "id": "108837bd",
   "metadata": {},
   "source": [
    "## Exercise 4:\n",
    "\n",
    "Using the same scenario as in the previous exercise. Compute the mean and variance of the sum of the two throws  and the covariance between the first and the second throw:\n",
    "\n",
    "<img src=\"./images/4_sided_hist_no_prob.png\" style=\"height: 300px;\"/>\n",
    "\n",
    "\n",
    "Hints:\n",
    "- You can use [np.cov](https://numpy.org/doc/stable/reference/generated/numpy.cov.html) to compute the covariance of two numpy arrays (this may not be needed for this particular exercise)."
   ]
  },
  {
   "cell_type": "code",
   "execution_count": 272,
   "id": "f4eadc3c",
   "metadata": {},
   "outputs": [
    {
     "name": "stdout",
     "output_type": "stream",
     "text": [
      "Sum of dice probability:\n",
      "{2: 0.0618, 3: 0.1277, 4: 0.1878, 5: 0.243, 6: 0.1887, 7: 0.1256, 8: 0.0654}\n",
      "\n",
      "Mean: 5.0075\n",
      "variance: 2.5344437500000003\n",
      "covariance: [ -0.0525 -34.0525]\n"
     ]
    }
   ],
   "source": [
    "# You can use this cell for your calculations (not graded)\n",
    "\n",
    "np.random.seed(50)\n",
    "\n",
    "dice = np.array([1,2,3,4])\n",
    "\n",
    "dice_probability = np.array([1/4,1/4,1/4,1/4])\n",
    "\n",
    "iterations = 10000\n",
    "    \n",
    "sum_of_dice = [(np.random.choice(dice, p=dice_probability) + np.random.choice(dice,p=dice_probability)) for _ in range(iterations)]\n",
    "\n",
    "sum_of_throw, counts = np.unique(sum_of_dice, return_counts=True)\n",
    "\n",
    "sumOfDiceProbabilityDict = dict((sum_of_throw[i], (counts[i]/iterations)) for i in range(len(sum_of_throw)))\n",
    "print(f\"Sum of dice probability:\\n{sumOfDiceProbabilityDict}\\n\")\n",
    "\n",
    "mean = sum((key * value) for key, value in sumOfDiceProbabilityDict.items())\n",
    "# mean = np.sum((key * value) for key, value in sumOfDiceProbabilityDict.items())\n",
    "\n",
    "variance = sum((((key-mean)**2) * value) for key, value in sumOfDiceProbabilityDict.items())\n",
    "\n",
    "covariance = sum((key-mean) for key in sumOfDiceProbabilityDict.items())\n",
    "\n",
    "print(f\"Mean: {mean}\")\n",
    "print(f\"variance: {variance}\")\n",
    "print(f\"covariance: {covariance}\")"
   ]
  },
  {
   "cell_type": "code",
   "execution_count": 273,
   "id": "4e662b9b",
   "metadata": {},
   "outputs": [
    {
     "data": {
      "application/vnd.jupyter.widget-view+json": {
       "model_id": "588239a5693b430b8fe89983e2f82c82",
       "version_major": 2,
       "version_minor": 0
      },
      "text/plain": [
       "FloatText(value=0.0, description='Mean:')"
      ]
     },
     "metadata": {},
     "output_type": "display_data"
    },
    {
     "data": {
      "application/vnd.jupyter.widget-view+json": {
       "model_id": "ff40a9a7eb034bc1aeedd9a1268d55f8",
       "version_major": 2,
       "version_minor": 0
      },
      "text/plain": [
       "FloatText(value=0.0, description='Variance:')"
      ]
     },
     "metadata": {},
     "output_type": "display_data"
    },
    {
     "data": {
      "application/vnd.jupyter.widget-view+json": {
       "model_id": "82afbe01789c4e29a7c3079843838c67",
       "version_major": 2,
       "version_minor": 0
      },
      "text/plain": [
       "FloatText(value=0.0, description='Covariance:')"
      ]
     },
     "metadata": {},
     "output_type": "display_data"
    },
    {
     "data": {
      "application/vnd.jupyter.widget-view+json": {
       "model_id": "1b15fc0df6334488ae3f02c9f95d1663",
       "version_major": 2,
       "version_minor": 0
      },
      "text/plain": [
       "Button(button_style='success', description='Save your answer!', style=ButtonStyle())"
      ]
     },
     "metadata": {},
     "output_type": "display_data"
    },
    {
     "data": {
      "application/vnd.jupyter.widget-view+json": {
       "model_id": "2024ac78717d4eaf8eab249a58e7caf4",
       "version_major": 2,
       "version_minor": 0
      },
      "text/plain": [
       "Output()"
      ]
     },
     "metadata": {},
     "output_type": "display_data"
    }
   ],
   "source": [
    "# Run this cell to submit your answer\n",
    "utils.exercise_4()"
   ]
  },
  {
   "cell_type": "markdown",
   "id": "714e099b",
   "metadata": {},
   "source": [
    "## Exercise 5:\n",
    "\n",
    "\n",
    "Now suppose you are have a loaded 4-sided dice (it is loaded so that it lands twice as often on side 2 compared to the other sides): \n",
    "\n",
    "\n",
    "<img src=\"./images/4_side_uf.png\" style=\"height: 300px;\"/>\n",
    "\n",
    "You are throwing it two times and recording the sum of each throw. Which of the following `probability mass functions` will be the one you should get?\n",
    "\n",
    "<table><tr>\n",
    "<td> <img src=\"./images/hist_sum_4_4l.png\" style=\"height: 300px;\"/> </td>\n",
    "<td> <img src=\"./images/hist_sum_4_3l.png\" style=\"height: 300px;\"/> </td>\n",
    "<td> <img src=\"./images/hist_sum_4_uf.png\" style=\"height: 300px;\"/> </td>\n",
    "</tr></table>"
   ]
  },
  {
   "cell_type": "markdown",
   "id": "ecb27c1b",
   "metadata": {},
   "source": [
    "Hints: \n",
    "- You can use the `p` parameter of [np.random.choice](https://numpy.org/doc/stable/reference/random/generated/numpy.random.choice.html) to simulate a loaded dice."
   ]
  },
  {
   "cell_type": "code",
   "execution_count": 274,
   "id": "a35573ec",
   "metadata": {},
   "outputs": [
    {
     "data": {
      "image/png": "[encoded data removed]",
      "text/plain": [
       "<Figure size 640x480 with 1 Axes>"
      ]
     },
     "metadata": {},
     "output_type": "display_data"
    }
   ],
   "source": [
    "# You can use this cell for your calculations (not graded)\n",
    "\n",
    "np.random.seed(45)\n",
    "\n",
    "iterations = 2000\n",
    "\n",
    "dice = np.array([1,2,3,4])\n",
    "\n",
    "dice_probability = np.array([0.2,0.4,0.2,0.2])\n",
    "\n",
    "sum_of_throws=[]\n",
    "for i in range(iterations):\n",
    "    throw_one = np.random.choice(dice, p=dice_probability)\n",
    "    throw_two = np.random.choice(dice, p=dice_probability)\n",
    "    sum_of_throws.append(throw_one + throw_two)\n",
    "\n",
    "sum_of_throw, counts = np.unique(sum_of_throws, return_counts=True)\n",
    "\n",
    "probability_sum_of_throw = counts/iterations\n",
    "\n",
    "plt.bar(sum_of_throw, height=probability_sum_of_throw)\n",
    "plt.xlabel(\"Sum of dice\")\n",
    "plt.ylabel(\"Probability\")\n",
    "plt.title(\"Historgram of sum\")\n",
    "plt.show()"
   ]
  },
  {
   "cell_type": "code",
   "execution_count": 257,
   "id": "3104e647",
   "metadata": {},
   "outputs": [
    {
     "data": {
      "application/vnd.jupyter.widget-view+json": {
       "model_id": "746dd6f79af741db8886c1fa6b6c9101",
       "version_major": 2,
       "version_minor": 0
      },
      "text/plain": [
       "ToggleButtons(description='Your answer:', options=('left', 'center', 'right'), value='left')"
      ]
     },
     "metadata": {},
     "output_type": "display_data"
    },
    {
     "data": {
      "application/vnd.jupyter.widget-view+json": {
       "model_id": "ecf9e67e56214f7bb725cc1a0b64c06d",
       "version_major": 2,
       "version_minor": 0
      },
      "text/plain": [
       "Button(button_style='success', description='Save your answer!', style=ButtonStyle())"
      ]
     },
     "metadata": {},
     "output_type": "display_data"
    },
    {
     "data": {
      "application/vnd.jupyter.widget-view+json": {
       "model_id": "793deaca37f74596a32dc409c51af869",
       "version_major": 2,
       "version_minor": 0
      },
      "text/plain": [
       "Output()"
      ]
     },
     "metadata": {},
     "output_type": "display_data"
    }
   ],
   "source": [
    "# Run this cell to submit your answer\n",
    "utils.exercise_5()"
   ]
  },
  {
   "cell_type": "markdown",
   "id": "0d0f3429",
   "metadata": {},
   "source": [
    "## Exercise 6:\n",
    "\n",
    "You have a 6-sided dice that is loaded so that it lands twice as often on side 3 compared to the other sides:\n",
    "\n",
    "<img src=\"./images/loaded_6_side.png\" style=\"height: 300px;\"/>\n",
    "\n",
    "You record the sum of throwing it twice. What is the highest value (of the sum) that will yield a cumulative probability lower or equal to 0.5?\n",
    "\n",
    "<img src=\"./images/loaded_6_cdf.png\" style=\"height: 300px;\"/>\n",
    "\n",
    "Hints:\n",
    "- The probability of side 3 is equal to $\\frac{2}{7}$"
   ]
  },
  {
   "cell_type": "code",
   "execution_count": 284,
   "id": "10feaaa8",
   "metadata": {},
   "outputs": [
    {
     "data": {
      "image/png": "[encoded data removed]",
      "text/plain": [
       "<Figure size 640x480 with 1 Axes>"
      ]
     },
     "metadata": {},
     "output_type": "display_data"
    }
   ],
   "source": [
    "# You can use this cell for your calculations (not graded)\n",
    "\n",
    "np.random.seed(50)\n",
    "\n",
    "iterations = 2000\n",
    "\n",
    "dice=np.array([1,2,3,4,5,6])\n",
    "\n",
    "dice_probability=np.array([1/7,1/7,2/7,1/7,1/7,1/7])\n",
    "\n",
    "sum_of_throws=[]\n",
    "for i in range(iterations):\n",
    "    throw_one=np.random.choice(dice,p=dice_probability)\n",
    "    throw_two=np.random.choice(dice,p=dice_probability)\n",
    "    sum_of_throws.append(throw_one+throw_two)\n",
    "\n",
    "sum_of_throw, counts = np.unique(sum_of_throws, return_counts=True)\n",
    "\n",
    "# Probability mass function\n",
    "pmf = counts/iterations\n",
    "\n",
    "# Cumulative mass function\n",
    "cmf = np.cumsum(pmf)\n",
    "\n",
    "plt.bar(sum_of_throw,height=cmf)\n",
    "plt.xlabel(\"Sum of dice\")\n",
    "plt.ylabel(\"Probability\")\n",
    "plt.title(\"CDF of sum\")\n",
    "plt.show()"
   ]
  },
  {
   "cell_type": "code",
   "execution_count": 259,
   "id": "963e5763",
   "metadata": {},
   "outputs": [
    {
     "data": {
      "application/vnd.jupyter.widget-view+json": {
       "model_id": "dd3f5a991a704695b046d51d753d19bc",
       "version_major": 2,
       "version_minor": 0
      },
      "text/plain": [
       "IntSlider(value=2, continuous_update=False, description='Sum:', max=12, min=2)"
      ]
     },
     "metadata": {},
     "output_type": "display_data"
    },
    {
     "data": {
      "application/vnd.jupyter.widget-view+json": {
       "model_id": "ff63a82b51e147cead7fc3ddefd367d1",
       "version_major": 2,
       "version_minor": 0
      },
      "text/plain": [
       "Button(button_style='success', description='Save your answer!', style=ButtonStyle())"
      ]
     },
     "metadata": {},
     "output_type": "display_data"
    },
    {
     "data": {
      "application/vnd.jupyter.widget-view+json": {
       "model_id": "52376199c8854f26848c11ba0887f2f8",
       "version_major": 2,
       "version_minor": 0
      },
      "text/plain": [
       "Output()"
      ]
     },
     "metadata": {},
     "output_type": "display_data"
    }
   ],
   "source": [
    "# Run this cell to submit your answer\n",
    "utils.exercise_6()"
   ]
  },
  {
   "cell_type": "markdown",
   "id": "f6684426",
   "metadata": {},
   "source": [
    "## Exercise 7:\n",
    "\n",
    "Given a 6-sided fair dice you try a new game. You only throw the dice a second time if the result of the first throw is **lower** or equal to 3. Which of the following `probability mass functions` will be the one you should get given this new constraint?\n",
    "\n",
    "<table><tr>\n",
    "<td> <img src=\"./images/6_sided_cond_green.png\" style=\"height: 250px;\"/> </td>\n",
    "<td> <img src=\"./images/6_sided_cond_blue.png\" style=\"height: 250px;\"/> </td>\n",
    "<td> <img src=\"./images/6_sided_cond_red.png\" style=\"height: 250px;\"/> </td>\n",
    "<td> <img src=\"./images/6_sided_cond_brown.png\" style=\"height: 250px;\"/> </td>\n",
    "\n",
    "</tr></table>\n",
    "\n",
    "Hints:\n",
    "- You can simulate the second throws as a numpy array and then make the values that met a certain criteria equal to 0 by using [np.where](https://numpy.org/doc/stable/reference/generated/numpy.where.html)"
   ]
  },
  {
   "cell_type": "code",
   "execution_count": 282,
   "id": "9e64d178",
   "metadata": {},
   "outputs": [
    {
     "data": {
      "image/png": "[encoded data removed]",
      "text/plain": [
       "<Figure size 640x480 with 1 Axes>"
      ]
     },
     "metadata": {},
     "output_type": "display_data"
    }
   ],
   "source": [
    "# You can use this cell for your calculations (not graded)\n",
    "\n",
    "np.random.seed(40)\n",
    "\n",
    "iterations = 5000\n",
    "\n",
    "dice = np.array([1,2,3,4,5,6])\n",
    "\n",
    "dice_probability = np.array([1/6,1/6,1/6,1/6,1/6,1/6])\n",
    "\n",
    "sum_of_throws=[]\n",
    "for i in range(iterations):\n",
    "    first_throw = np.random.choice(dice,p=dice_probability)\n",
    "    \n",
    "    if(first_throw < 4):\n",
    "        second_throw = np.random.choice(dice,p=dice_probability)\n",
    "    else:\n",
    "        second_throw = 0\n",
    "\n",
    "    sum_of_throws.append(first_throw + second_throw)\n",
    "    \n",
    "sum_of_throw, counts = np.unique(sum_of_throws, return_counts=True)\n",
    "\n",
    "probabiblity_sum_of_dice = counts/iterations\n",
    "\n",
    "plt.bar(sum_of_throw, height=probabiblity_sum_of_dice)\n",
    "plt.xlabel(\"Sum of dice\")\n",
    "plt.ylabel(\"Probability\")\n",
    "plt.title(\"Historgram of sum\")\n",
    "plt.show()"
   ]
  },
  {
   "cell_type": "code",
   "execution_count": 261,
   "id": "82a4db40",
   "metadata": {},
   "outputs": [
    {
     "data": {
      "application/vnd.jupyter.widget-view+json": {
       "model_id": "8a721fa5081d472abf66e01443774310",
       "version_major": 2,
       "version_minor": 0
      },
      "text/plain": [
       "ToggleButtons(description='Your answer:', options=('left-most', 'left-center', 'right-center', 'right-most'), …"
      ]
     },
     "metadata": {},
     "output_type": "display_data"
    },
    {
     "data": {
      "application/vnd.jupyter.widget-view+json": {
       "model_id": "1aad09c5222246e78d320a3df5d45ad5",
       "version_major": 2,
       "version_minor": 0
      },
      "text/plain": [
       "Button(button_style='success', description='Save your answer!', style=ButtonStyle())"
      ]
     },
     "metadata": {},
     "output_type": "display_data"
    },
    {
     "data": {
      "application/vnd.jupyter.widget-view+json": {
       "model_id": "65d696095ad74b5a849c4cc1f2c51dc3",
       "version_major": 2,
       "version_minor": 0
      },
      "text/plain": [
       "Output()"
      ]
     },
     "metadata": {},
     "output_type": "display_data"
    }
   ],
   "source": [
    "# Run this cell to submit your answer\n",
    "utils.exercise_7()"
   ]
  },
  {
   "cell_type": "markdown",
   "id": "ba973eaf",
   "metadata": {},
   "source": [
    "## Exercise 8:\n",
    "\n",
    "Given the same scenario as in the previous exercise but with the twist that you only throw the dice a second time if the result of the first throw is **greater** or equal to 3. Which of the following `probability mass functions` will be the one you should get given this new constraint?\n",
    "\n",
    "<table><tr>\n",
    "<td> <img src=\"./images/6_sided_cond_green2.png\" style=\"height: 250px;\"/> </td>\n",
    "<td> <img src=\"./images/6_sided_cond_blue2.png\" style=\"height: 250px;\"/> </td>\n",
    "<td> <img src=\"./images/6_sided_cond_red2.png\" style=\"height: 250px;\"/> </td>\n",
    "<td> <img src=\"./images/6_sided_cond_brown2.png\" style=\"height: 250px;\"/> </td>\n",
    "\n",
    "</tr></table>\n"
   ]
  },
  {
   "cell_type": "code",
   "execution_count": 283,
   "id": "4d25300f",
   "metadata": {},
   "outputs": [
    {
     "data": {
      "image/png": "[encoded data removed]",
      "text/plain": [
       "<Figure size 640x480 with 1 Axes>"
      ]
     },
     "metadata": {},
     "output_type": "display_data"
    }
   ],
   "source": [
    "# You can use this cell for your calculations (not graded)\n",
    "\n",
    "np.random.seed(40)\n",
    "\n",
    "iterations = 6000\n",
    "\n",
    "dice = np.array([1,2,3,4,5,6])\n",
    "\n",
    "dice_probability = np.array([1/6,1/6,1/6,1/6,1/6,1/6])\n",
    "\n",
    "sum_of_throws=[]\n",
    "for i in range(iterations):\n",
    "    first_throw=np.random.choice(dice,p=dice_probability)\n",
    "    \n",
    "    second_throw=0\n",
    "    if(first_throw > 2):\n",
    "        second_throw=np.random.choice(dice)\n",
    "\n",
    "    sum_of_throws.append(first_throw+second_throw)\n",
    "    \n",
    "sum_of_throw, counts = np.unique(sum_of_throws, return_counts=True)\n",
    "\n",
    "probabiblity_sum_of_dice = counts/iterations\n",
    "\n",
    "plt.bar(sum_of_throw, height=probabiblity_sum_of_dice)\n",
    "plt.xlabel(\"Sum of dice\")\n",
    "plt.ylabel(\"Probability\")\n",
    "plt.title(\"Historgram of sum\")\n",
    "plt.show()"
   ]
  },
  {
   "cell_type": "code",
   "execution_count": 263,
   "id": "33bb9fd2",
   "metadata": {
    "scrolled": true
   },
   "outputs": [
    {
     "data": {
      "application/vnd.jupyter.widget-view+json": {
       "model_id": "953950b8855847ec9d6c1f7a17e422f9",
       "version_major": 2,
       "version_minor": 0
      },
      "text/plain": [
       "ToggleButtons(description='Your answer:', options=('left-most', 'left-center', 'right-center', 'right-most'), …"
      ]
     },
     "metadata": {},
     "output_type": "display_data"
    },
    {
     "data": {
      "application/vnd.jupyter.widget-view+json": {
       "model_id": "9308a01fd3e942d68b2c135461037e36",
       "version_major": 2,
       "version_minor": 0
      },
      "text/plain": [
       "Button(button_style='success', description='Save your answer!', style=ButtonStyle())"
      ]
     },
     "metadata": {},
     "output_type": "display_data"
    },
    {
     "data": {
      "application/vnd.jupyter.widget-view+json": {
       "model_id": "5e85dd00c1a84d95b709df4fba1f9593",
       "version_major": 2,
       "version_minor": 0
      },
      "text/plain": [
       "Output()"
      ]
     },
     "metadata": {},
     "output_type": "display_data"
    }
   ],
   "source": [
    "# Run this cell to submit your answer\n",
    "utils.exercise_8()"
   ]
  },
  {
   "cell_type": "markdown",
   "id": "017e9b22",
   "metadata": {},
   "source": [
    "## Exercise 9:\n",
    "\n",
    "Given a n-sided fair dice. You throw it twice and record the sum. How does increasing the number of sides `n` of the dice impact the mean and variance of the sum and the covariance of the joint distribution?"
   ]
  },
  {
   "cell_type": "code",
   "execution_count": 264,
   "id": "645a9b74",
   "metadata": {},
   "outputs": [],
   "source": [
    "# You can use this cell for your calculations (not graded)\n"
   ]
  },
  {
   "cell_type": "code",
   "execution_count": 265,
   "id": "907412da",
   "metadata": {},
   "outputs": [
    {
     "name": "stdout",
     "output_type": "stream",
     "text": [
      "As the number of sides in the die increases:\n"
     ]
    },
    {
     "data": {
      "application/vnd.jupyter.widget-view+json": {
       "model_id": "c1e865fec7534987a920032ae69a384d",
       "version_major": 2,
       "version_minor": 0
      },
      "text/plain": [
       "ToggleButtons(description='The mean of the sum:', options=('stays the same', 'increases', 'decreases'), value=…"
      ]
     },
     "metadata": {},
     "output_type": "display_data"
    },
    {
     "data": {
      "application/vnd.jupyter.widget-view+json": {
       "model_id": "cce168e4ac17486db476ad2e632f165c",
       "version_major": 2,
       "version_minor": 0
      },
      "text/plain": [
       "ToggleButtons(description='The variance of the sum:', options=('stays the same', 'increases', 'decreases'), va…"
      ]
     },
     "metadata": {},
     "output_type": "display_data"
    },
    {
     "data": {
      "application/vnd.jupyter.widget-view+json": {
       "model_id": "4964b066338f4140ac8f618f01b4604b",
       "version_major": 2,
       "version_minor": 0
      },
      "text/plain": [
       "ToggleButtons(description='The covariance of the joint distribution:', options=('stays the same', 'increases',…"
      ]
     },
     "metadata": {},
     "output_type": "display_data"
    },
    {
     "data": {
      "application/vnd.jupyter.widget-view+json": {
       "model_id": "3074ef41729346a7a9d93ea8c5df7eff",
       "version_major": 2,
       "version_minor": 0
      },
      "text/plain": [
       "Button(button_style='success', description='Save your answer!', style=ButtonStyle())"
      ]
     },
     "metadata": {},
     "output_type": "display_data"
    },
    {
     "data": {
      "application/vnd.jupyter.widget-view+json": {
       "model_id": "25d086f33a284ea19dfea0d775350c4f",
       "version_major": 2,
       "version_minor": 0
      },
      "text/plain": [
       "Output()"
      ]
     },
     "metadata": {},
     "output_type": "display_data"
    }
   ],
   "source": [
    "# Run this cell to submit your answer\n",
    "utils.exercise_9()"
   ]
  },
  {
   "cell_type": "markdown",
   "id": "fcf9b3ac",
   "metadata": {},
   "source": [
    "## Exercise 10:\n",
    "\n",
    "Given a 6-sided loaded dice. You throw it twice and record the sum. Which of the following statemets is true?"
   ]
  },
  {
   "cell_type": "code",
   "execution_count": 266,
   "id": "008c5858",
   "metadata": {},
   "outputs": [],
   "source": [
    "# You can use this cell for your calculations (not graded)\n",
    "\n"
   ]
  },
  {
   "cell_type": "code",
   "execution_count": 267,
   "id": "99373567",
   "metadata": {},
   "outputs": [
    {
     "data": {
      "application/vnd.jupyter.widget-view+json": {
       "model_id": "5fcbdec5f908415eae341005d384742f",
       "version_major": 2,
       "version_minor": 0
      },
      "text/plain": [
       "RadioButtons(layout=Layout(width='max-content'), options=('the mean and variance is the same regardless of whi…"
      ]
     },
     "metadata": {},
     "output_type": "display_data"
    },
    {
     "data": {
      "application/vnd.jupyter.widget-view+json": {
       "model_id": "d6cf21494993440a8abf51c95f70becc",
       "version_major": 2,
       "version_minor": 0
      },
      "text/plain": [
       "Button(button_style='success', description='Save your answer!', style=ButtonStyle())"
      ]
     },
     "metadata": {},
     "output_type": "display_data"
    },
    {
     "data": {
      "application/vnd.jupyter.widget-view+json": {
       "model_id": "67755157b4334330a84d82e4505e3d91",
       "version_major": 2,
       "version_minor": 0
      },
      "text/plain": [
       "Output()"
      ]
     },
     "metadata": {},
     "output_type": "display_data"
    }
   ],
   "source": [
    "# Run this cell to submit your answer\n",
    "utils.exercise_10()"
   ]
  },
  {
   "cell_type": "markdown",
   "id": "f8a1a8a3",
   "metadata": {},
   "source": [
    "## Exercise 11:\n",
    "\n",
    "Given a n-sided dice (could be fair or not). You throw it twice and record the sum (there is no dependance between the throws). If you are only given the histogram of the sums can you use it to know which are the probabilities of the dice landing on each side?\n",
    "\n",
    "In other words, if you are provided with only the histogram of the sums like this one:\n",
    "<td> <img src=\"./images/hist_sum_6_side.png\" style=\"height: 300px;\"/> </td>\n",
    "\n",
    "Could you use it to know the probabilities of the dice landing on each side? Which will be equivalent to finding this histogram:\n",
    "<img src=\"./images/fair_dice.png\" style=\"height: 300px;\"/>\n"
   ]
  },
  {
   "cell_type": "code",
   "execution_count": 268,
   "id": "b42149cf",
   "metadata": {},
   "outputs": [],
   "source": [
    "# You can use this cell for your calculations (not graded)\n"
   ]
  },
  {
   "cell_type": "code",
   "execution_count": 269,
   "id": "33a2e4d9",
   "metadata": {},
   "outputs": [
    {
     "data": {
      "application/vnd.jupyter.widget-view+json": {
       "model_id": "5eab2a134a4641938746c8f3969e8058",
       "version_major": 2,
       "version_minor": 0
      },
      "text/plain": [
       "RadioButtons(layout=Layout(width='max-content'), options=('yes, but only if one of the sides is loaded', 'no, …"
      ]
     },
     "metadata": {},
     "output_type": "display_data"
    },
    {
     "data": {
      "application/vnd.jupyter.widget-view+json": {
       "model_id": "d0402d250c7d416fa174014d578ca264",
       "version_major": 2,
       "version_minor": 0
      },
      "text/plain": [
       "Button(button_style='success', description='Save your answer!', style=ButtonStyle())"
      ]
     },
     "metadata": {},
     "output_type": "display_data"
    },
    {
     "data": {
      "application/vnd.jupyter.widget-view+json": {
       "model_id": "5fe218708e4b48d4963f93cb7fce35f3",
       "version_major": 2,
       "version_minor": 0
      },
      "text/plain": [
       "Output()"
      ]
     },
     "metadata": {},
     "output_type": "display_data"
    }
   ],
   "source": [
    "# Run this cell to submit your answer\n",
    "utils.exercise_11()"
   ]
  },
  {
   "cell_type": "markdown",
   "id": "1635ca7c",
   "metadata": {},
   "source": [
    "## Before Submitting Your Assignment\n",
    "\n",
    "Run the next cell to check that you have answered all of the exercises"
   ]
  },
  {
   "cell_type": "code",
   "execution_count": 270,
   "id": "c6822278",
   "metadata": {},
   "outputs": [
    {
     "name": "stdout",
     "output_type": "stream",
     "text": [
      "All answers saved, you can submit the assignment for grading!\n"
     ]
    }
   ],
   "source": [
    "utils.check_submissions()"
   ]
  },
  {
   "cell_type": "markdown",
   "id": "5286008f",
   "metadata": {},
   "source": [
    "**Congratulations on finishing this assignment!**\n",
    "\n",
    "During this assignment you tested your knowledge on probability distributions, descriptive statistics and visual interpretation of these concepts. You had the choice to compute everything analytically or create simulations to assist you get the right answer. You probably also realized that some exercises could be answered without any computations just by looking at certain hidden queues that the visualizations revealed.\n",
    "\n",
    "**Keep up the good work!**\n"
   ]
  }
 ],
 "metadata": {
  "kernelspec": {
   "display_name": "Python 3 (ipykernel)",
   "language": "python",
   "name": "python3"
  },
  "language_info": {
   "codemirror_mode": {
    "name": "ipython",
    "version": 3
   },
   "file_extension": ".py",
   "mimetype": "text/x-python",
   "name": "python",
   "nbconvert_exporter": "python",
   "pygments_lexer": "ipython3",
   "version": "3.10.11"
  }
 },
 "nbformat": 4,
 "nbformat_minor": 5
}
